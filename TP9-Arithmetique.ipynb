{
 "cells": [
  {
   "cell_type": "markdown",
   "metadata": {},
   "source": [
    "# TP 9 : ARITHMETIQUE"
   ]
  },
  {
   "cell_type": "markdown",
   "metadata": {},
   "source": [
    "## Notion préliminaire : La boucle WHILE\n",
    "\n",
    "Exécuter le script suivant :"
   ]
  },
  {
   "cell_type": "code",
   "execution_count": null,
   "metadata": {},
   "outputs": [],
   "source": [
    "i=0\n",
    "while i<5:\n",
    "    print(i)\n",
    "    i=i+1\n",
    "print(\"Fini !\")"
   ]
  },
  {
   "cell_type": "markdown",
   "metadata": {},
   "source": [
    "* Les lignes 3 et 4 sont **indentées**, elles appartiennent au corps da la boucle *while*. La ligne 5 qui n'est plus indentée marque la sortie de la boucle *while*.\n",
    "* Les lignes 3 et 4 sont répétées tant que la condition booléenne  $i<5$ a pour valeur *True*.\n",
    "* La condition booléenne $i<5$ devient *False* lorsque $i\\ge5$. Donc les lignes 3 et 4 ne sont plus exécutées dès que $i$ prend la valeur 5.\n",
    "* La ligne 4 permet d'**incrémenter** $i$ c'est-à-dire d'ajouter 1 à $i$ à chaque fois que le cors de la boucle (composée des lignes 3 et 4) *while* est répétée.\n",
    "* Voici un tableau de valeurs qui explique le contenu des variables $i$ de type *int* et $i<10$ de type *bool*. La dernière colonne intitulée Sortie, contient ce qui est affiché à l'écran grâce au *print()*.\n",
    "\n",
    "![image1](image1.png)"
   ]
  },
  {
   "cell_type": "markdown",
   "metadata": {},
   "source": [
    "### Exercice 1 : Multiple d'un entier\n",
    "1. Donner les multiples positifs de 4 inférieurs à 21.\n"
   ]
  },
  {
   "cell_type": "markdown",
   "metadata": {},
   "source": [
    "réponse :"
   ]
  },
  {
   "cell_type": "markdown",
   "metadata": {},
   "source": [
    "2. Étant donné deux entiers naturels $a$ et $b$, à quelle condition $a$ est un multiple de $b$ ?\n"
   ]
  },
  {
   "cell_type": "raw",
   "metadata": {},
   "source": [
    "réponse :"
   ]
  },
  {
   "cell_type": "markdown",
   "metadata": {},
   "source": [
    "3. Ecrire une fonction en langage python \"multiple(a,b)\" qui détermine si un entier naturel $a$ est multiple d’un entier naturel $b$."
   ]
  },
  {
   "cell_type": "code",
   "execution_count": null,
   "metadata": {},
   "outputs": [],
   "source": [
    "# Programme fonction multiple(a,b) en Python ici"
   ]
  },
  {
   "cell_type": "markdown",
   "metadata": {},
   "source": [
    "Tester la fonction pour a = 32 et b = 4, a = 37 et b = 13 puis a = 0 et b = 17 :"
   ]
  },
  {
   "cell_type": "code",
   "execution_count": null,
   "metadata": {},
   "outputs": [],
   "source": [
    "print(multiple(32,4))"
   ]
  },
  {
   "cell_type": "markdown",
   "metadata": {},
   "source": [
    "4. Voici pour deux entiers $a$ et $b$ donnés la fonction renvoyant le plus grand multiple de $b$ inférieur ou égal à $a$ sachant qu'on suppose que $b\\leq a$.\n",
    "Exécuter le programme avec différentes valeurs puis expliquer la ligne 5."
   ]
  },
  {
   "cell_type": "code",
   "execution_count": null,
   "metadata": {},
   "outputs": [],
   "source": [
    "def PlusGrandMultiple(a,b):\n",
    "    n=1\n",
    "    while n*b<=a:\n",
    "        n=n+1\n",
    "    return (n-1)*b"
   ]
  },
  {
   "cell_type": "code",
   "execution_count": null,
   "metadata": {},
   "outputs": [],
   "source": [
    "print(PlusGrandMultiple(37,13))"
   ]
  },
  {
   "cell_type": "markdown",
   "metadata": {},
   "source": [
    "réponse :"
   ]
  },
  {
   "cell_type": "markdown",
   "metadata": {},
   "source": [
    "### Exercice 2 : Nombre premier"
   ]
  },
  {
   "cell_type": "code",
   "execution_count": null,
   "metadata": {},
   "outputs": [],
   "source": [
    "#Script Python déterminant si un nombre entier naturel est premier\n",
    "N=5\n",
    "reponse=\"premier\"\n",
    "for i in range (2,N-1):\n",
    "  if N%i==0:\n",
    "    reponse=\"pas premier\"\n",
    "print (reponse)\n",
    "    "
   ]
  },
  {
   "cell_type": "markdown",
   "metadata": {},
   "source": [
    "Le programme Python ci-dessus a pour but de tester si un nombre est premier.\n",
    "\n",
    "**Rappel :** « N %i » donne le reste de la division euclidienne du nombre N par i.\n",
    "\n",
    "1. Tester le programme suivant avec N = 7, N = 11 et N = 27."
   ]
  },
  {
   "cell_type": "markdown",
   "metadata": {},
   "source": [
    "réponse :"
   ]
  },
  {
   "cell_type": "markdown",
   "metadata": {},
   "source": [
    "2. Proposer d’autres valeurs pour tester si le programme fonctionne. Justifier chacun de vos choix."
   ]
  },
  {
   "cell_type": "markdown",
   "metadata": {},
   "source": [
    "réponse :"
   ]
  },
  {
   "cell_type": "markdown",
   "metadata": {},
   "source": [
    "3. Si certains nombres qui ont été testés ne donnent pas la réponse attendue, modifier le programme pour le corriger."
   ]
  },
  {
   "cell_type": "code",
   "execution_count": null,
   "metadata": {},
   "outputs": [],
   "source": [
    "# programme modifié"
   ]
  },
  {
   "cell_type": "markdown",
   "metadata": {},
   "source": [
    "4. Est-il nécessaire de tester toutes les divisions entre 2 et N-2 ? "
   ]
  },
  {
   "cell_type": "markdown",
   "metadata": {},
   "source": [
    "réponse :"
   ]
  },
  {
   "cell_type": "markdown",
   "metadata": {},
   "source": [
    "## Exercice 3 : Diviseurs"
   ]
  },
  {
   "cell_type": "markdown",
   "metadata": {},
   "source": [
    "On considère une fonction \"Diviseurs\" définie sur ci-dessous, qui affiche tous les diviseurs positifs de l’entier naturel n donné en argument :"
   ]
  },
  {
   "cell_type": "code",
   "execution_count": null,
   "metadata": {},
   "outputs": [],
   "source": [
    "def Diviseurs(n):\n",
    "    for k in range(1,n+1):\n",
    "        if n%k==0:\n",
    "            print(k)"
   ]
  },
  {
   "cell_type": "markdown",
   "metadata": {},
   "source": [
    "1. Exécuter la fonction pour $n=10$ puis pour $n=18$ :"
   ]
  },
  {
   "cell_type": "code",
   "execution_count": null,
   "metadata": {},
   "outputs": [],
   "source": [
    "Diviseurs(10)"
   ]
  },
  {
   "cell_type": "markdown",
   "metadata": {},
   "source": [
    "2. On sait que 2 divise 18 car $18=2*9$. Quel autre diviseur aurait-on pu obtenir sans faire de calcul supplémentaire ?"
   ]
  },
  {
   "cell_type": "raw",
   "metadata": {},
   "source": [
    "réponse :"
   ]
  },
  {
   "cell_type": "markdown",
   "metadata": {},
   "source": [
    "3. Sachant que les instructions « a//b » et «sqrt(n)» renvoient respectivement le quotient dans la division euclidienne de a par b, et la racine carrée de n, compléter fonction Diviseurs_bis pour qu'elle affiche tous les diviseurs positifs de l’entier naturel n donné en argument :"
   ]
  },
  {
   "cell_type": "code",
   "execution_count": null,
   "metadata": {},
   "outputs": [],
   "source": [
    "from math import*\n",
    "def Diviseurs_bis(n):\n",
    "    k=1\n",
    "    while ...: # à compléter\n",
    "        if ...:  # à compléter\n",
    "            print(...,...) # à compléter\n",
    "        k=k+1"
   ]
  },
  {
   "cell_type": "markdown",
   "metadata": {},
   "source": [
    "4. Déterminer tous les diviseurs positifs de 24, de 48, et de 42 :"
   ]
  },
  {
   "cell_type": "code",
   "execution_count": null,
   "metadata": {},
   "outputs": [],
   "source": []
  }
 ],
 "metadata": {
  "kernelspec": {
   "display_name": "Python 3",
   "language": "python",
   "name": "python3"
  },
  "language_info": {
   "codemirror_mode": {
    "name": "ipython",
    "version": 3
   },
   "file_extension": ".py",
   "mimetype": "text/x-python",
   "name": "python",
   "nbconvert_exporter": "python",
   "pygments_lexer": "ipython3",
   "version": "3.7.10"
  }
 },
 "nbformat": 4,
 "nbformat_minor": 2
}
